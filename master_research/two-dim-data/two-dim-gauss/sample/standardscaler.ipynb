{
 "cells": [
  {
   "cell_type": "code",
   "execution_count": null,
   "id": "bc21a01c",
   "metadata": {},
   "outputs": [
    {
     "name": "stdout",
     "output_type": "stream",
     "text": [
      "元の平均: \n",
      " [5.11243154 5.15301027]\n",
      "元の分散共分散行列: \n",
      " [[0.67948891 0.29720119]\n",
      " [0.29720119 0.98863712]]\n",
      "平均: [-3.59712260e-16 -3.74700271e-18]\n",
      "標準偏差: [1. 1.]\n",
      "元のデータに戻す: [5.11243154 5.15301027]\n",
      "元のデータに戻す: [0.81602643 0.98430909]\n"
     ]
    }
   ],
   "source": [
    "from sklearn.preprocessing import StandardScaler\n",
    "import numpy as np\n",
    "\n",
    "original_mean = [5, 5]  # 元の平均\n",
    "original_cov = [[1, 0.3], [0.3, 1]]  # 元の分散共分散行列\n",
    "\n",
    "# 例：2次元正規分布データ（50個）\n",
    "data = np.random.multivariate_normal(original_mean, original_cov, size=50)\n",
    "\n",
    "\n",
    "# データの平均・分散共分散行列を確認\n",
    "print(\"元の平均: \\n\", data.mean(axis=0))     # → [5, 5]\n",
    "print(\"元の分散共分散行列: \\n\", np.cov(data.T)) # → [[1, 0.3], [0.3, 1]]\n",
    "\n",
    "# スケーラーを生成・適合（fit）し、変換（transform）\n",
    "scaler = StandardScaler()\n",
    "scaled_data = scaler.fit_transform(data)\n",
    "\n",
    "# データの平均・分散共分散行列\n",
    "print(\"平均: \\n\", scaled_data.mean(axis=0))     # → ほぼ [0, 0]\n",
    "print(\"標準偏差:\", scaled_data.std(axis=0))  # → ほぼ [1, 1]\n",
    "\n",
    "\n",
    "# スケーリングをもとに戻す\n",
    "original_data = scaler.inverse_transform(scaled_data)\n",
    "print(\"元のデータに戻す:\", original_data.mean(axis=0))  # → ほぼ [5, 5]\n",
    "print(\"元のデータに戻す:\", original_data.std(axis=0))   # → ほぼ [1, 1]\n"
   ]
  }
 ],
 "metadata": {
  "kernelspec": {
   "display_name": "research",
   "language": "python",
   "name": "python3"
  },
  "language_info": {
   "codemirror_mode": {
    "name": "ipython",
    "version": 3
   },
   "file_extension": ".py",
   "mimetype": "text/x-python",
   "name": "python",
   "nbconvert_exporter": "python",
   "pygments_lexer": "ipython3",
   "version": "3.12.9"
  }
 },
 "nbformat": 4,
 "nbformat_minor": 5
}
