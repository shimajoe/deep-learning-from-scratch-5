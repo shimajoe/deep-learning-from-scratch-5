{
 "cells": [
  {
   "cell_type": "markdown",
   "metadata": {},
   "source": [
    "# 拡散モデル"
   ]
  },
  {
   "cell_type": "code",
   "execution_count": null,
   "metadata": {},
   "outputs": [],
   "source": [
    "import numpy as np\n",
    "import matplotlib.pyplot as plt\n",
    "\n",
    "# 学習データ\n",
    "x = [1, 2, 3, 4, 5, 6, 7, 8, 9, 10]"
   ]
  },
  {
   "cell_type": "code",
   "execution_count": null,
   "metadata": {},
   "outputs": [],
   "source": [
    "# 拡散モデル\n",
    "import torch\n",
    "from torch import nn\n",
    "\n",
    "class OneDimMLP(nn.Module):\n",
    "    def __init__(self, input_dim, hidden_dim):\n",
    "        super().__init__()\n",
    "        self.model = nn.Sequential(\n",
    "            nn.Linear(input_dim + 1, hidden_dim),  # t埋め込みを考慮して入力次元を +1\n",
    "            nn.ReLU(),\n",
    "            nn.Linear(hidden_dim, hidden_dim),\n",
    "            nn.ReLU(),\n",
    "            nn.Linear(hidden_dim, 1)  # 出力は1次元\n",
    "        )\n",
    "    \n",
    "    def forward(self, x, t):\n",
    "        # tをログスケールで簡易的に埋め込む (1Dデータに適用)\n",
    "        t_embed = torch.log1p(t.float()).unsqueeze(1)  # tを(バッチサイズ, 1)に変換\n",
    "        x_t = torch.cat([x, t_embed], dim=1)  # xとt_embedを結合\n",
    "        return self.model(x_t)\n",
    "\n",
    "# モデル作成\n",
    "input_dim = 3  # 入力次元 (例: xは3次元データ)\n",
    "hidden_dim = 32  # 隠れ層のユニット数\n",
    "model = OneDimMLP(input_dim=input_dim, hidden_dim=hidden_dim)\n",
    "\n",
    "# テスト用データ\n",
    "x = torch.randn(10, input_dim)  # 10個の3次元の入力\n",
    "t = torch.randint(1, 100, (10,))  # 10個の時間ステップ (整数)\n",
    "y = model(x, t)  # 順伝播\n",
    "print(y.shape)  # (10, 1)\n"
   ]
  }
 ],
 "metadata": {
  "kernelspec": {
   "display_name": "Python 3",
   "language": "python",
   "name": "python3"
  },
  "language_info": {
   "codemirror_mode": {
    "name": "ipython",
    "version": 3
   },
   "file_extension": ".py",
   "mimetype": "text/x-python",
   "name": "python",
   "nbconvert_exporter": "python",
   "pygments_lexer": "ipython3",
   "version": "3.9.2"
  }
 },
 "nbformat": 4,
 "nbformat_minor": 2
}
