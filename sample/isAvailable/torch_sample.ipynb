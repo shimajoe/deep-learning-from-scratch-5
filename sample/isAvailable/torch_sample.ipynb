{
 "cells": [
  {
   "cell_type": "code",
   "execution_count": 1,
   "metadata": {},
   "outputs": [
    {
     "name": "stdout",
     "output_type": "stream",
     "text": [
      "CUDA is available! Using GPU...\n",
      "GPU Name: NVIDIA A40\n",
      "Tensor created on device: cuda\n",
      "tensor([[   2.5608,  344.1879,  -83.4968,  ...,  -61.0040,   21.2606,\n",
      "         -174.2738],\n",
      "        [   4.6188,  101.0573,   -0.5666,  ...,  105.0263,  103.8284,\n",
      "          178.6275],\n",
      "        [  88.4906,   81.5250,   43.2465,  ..., -171.1409, -419.7159,\n",
      "         -125.6404],\n",
      "        ...,\n",
      "        [-116.9959,  -51.6204,  -78.5975,  ...,  -29.8984,  -23.5052,\n",
      "           39.2008],\n",
      "        [ 280.0916,  139.9493,  122.9450,  ...,  -38.6941,  -88.1059,\n",
      "         -122.3330],\n",
      "        [ -39.1737, -102.8581,    0.9759,  ...,   15.3694,   29.7968,\n",
      "           30.5628]], device='cuda:0')\n",
      "計算時間: 0.9427 秒\n"
     ]
    }
   ],
   "source": [
    "import torch\n",
    "import time\n",
    "def check_cuda():\n",
    "    # CUDAが利用可能かどうかを確認\n",
    "    if torch.cuda.is_available():\n",
    "        print(\"CUDA is available! Using GPU...\")\n",
    "        device = torch.device(\"cuda\")  # GPUを選択\n",
    "        print(f\"GPU Name: {torch.cuda.get_device_name(0)}\")  # 使用するGPUの名前を表示\n",
    "    else:\n",
    "        print(\"CUDA is not available. Using CPU...\")\n",
    "        device = torch.device(\"cpu\")  # GPUが使用できない場合はCPUを使用\n",
    "    size = 20000\n",
    "    # サンプルテンソルを作成し、GPU/CPU上に転送\n",
    "    x = torch.randn(size, size).to(device)  # 3x3のランダムなテンソル\n",
    "    y = torch.randn(size, size).to(device)\n",
    "    start_time = time.time()\n",
    "    tensor = torch.mm(x, y)  # 行列の掛け算\n",
    "    end_time = time.time()\n",
    "    tensor = tensor.to(device)  # デバイスに転送\n",
    "    print(\"Tensor created on device:\", device)\n",
    "    print(tensor)\n",
    "    print(\"計算時間: {:.4f} 秒\".format(end_time - start_time))\n",
    "if __name__ == \"__main__\":\n",
    "    check_cuda()"
   ]
  }
 ],
 "metadata": {
  "kernelspec": {
   "display_name": "Python 3",
   "language": "python",
   "name": "python3"
  },
  "language_info": {
   "codemirror_mode": {
    "name": "ipython",
    "version": 3
   },
   "file_extension": ".py",
   "mimetype": "text/x-python",
   "name": "python",
   "nbconvert_exporter": "python",
   "pygments_lexer": "ipython3",
   "version": "3.9.2"
  }
 },
 "nbformat": 4,
 "nbformat_minor": 2
}
