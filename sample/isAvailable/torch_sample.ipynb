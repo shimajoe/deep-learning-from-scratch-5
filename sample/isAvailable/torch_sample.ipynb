{
 "cells": [
  {
   "cell_type": "code",
   "execution_count": 1,
   "metadata": {},
   "outputs": [
    {
     "name": "stdout",
     "output_type": "stream",
     "text": [
      "CUDA is available! Using GPU...\n",
      "GPU Name: NVIDIA A40\n",
      "Tensor created on device: cuda\n",
      "tensor([[ 282.5557,  -25.1945, -232.7630,  ..., -163.4837,    7.1271,\n",
      "         -246.4727],\n",
      "        [ -11.2687,  -51.9862,  -35.1549,  ..., -156.8983,  -84.9784,\n",
      "          248.9320],\n",
      "        [ 142.3279,  -35.7355,  137.6952,  ...,   56.4544,   21.2561,\n",
      "          -50.2049],\n",
      "        ...,\n",
      "        [   6.0920,  -21.5889,  -53.6481,  ...,  313.7054,  -16.3459,\n",
      "          -38.4718],\n",
      "        [ 161.1194,  163.1844, -214.4298,  ...,   33.7819, -169.3862,\n",
      "         -358.5449],\n",
      "        [ -26.1573,   60.7652, -182.4706,  ..., -226.0502,   66.8287,\n",
      "          -74.5504]], device='cuda:0')\n",
      "計算時間: 0.9427 秒\n"
     ]
    }
   ],
   "source": [
    "import torch\n",
    "import time\n",
    "def check_cuda():\n",
    "    # CUDAが利用可能かどうかを確認\n",
    "    if torch.cuda.is_available():\n",
    "        print(\"CUDA is available! Using GPU...\")\n",
    "        device = torch.device(\"cuda\")  # GPUを選択\n",
    "        print(f\"GPU Name: {torch.cuda.get_device_name(0)}\")  # 使用するGPUの名前を表示\n",
    "    else:\n",
    "        print(\"CUDA is not available. Using CPU...\")\n",
    "        device = torch.device(\"cpu\")  # GPUが使用できない場合はCPUを使用\n",
    "    size = 20000\n",
    "    # サンプルテンソルを作成し、GPU/CPU上に転送\n",
    "    x = torch.randn(size, size).to(device)  # 3x3のランダムなテンソル\n",
    "    y = torch.randn(size, size).to(device)\n",
    "    start_time = time.time()\n",
    "    tensor = torch.mm(x, y)  # 行列の掛け算\n",
    "    end_time = time.time()\n",
    "    tensor = tensor.to(device)  # デバイスに転送\n",
    "    print(\"Tensor created on device:\", device)\n",
    "    print(tensor)\n",
    "    print(\"計算時間: {:.4f} 秒\".format(end_time - start_time))\n",
    "if __name__ == \"__main__\":\n",
    "    check_cuda()"
   ]
  }
 ],
 "metadata": {
  "kernelspec": {
   "display_name": "Python 3",
   "language": "python",
   "name": "python3"
  },
  "language_info": {
   "codemirror_mode": {
    "name": "ipython",
    "version": 3
   },
   "file_extension": ".py",
   "mimetype": "text/x-python",
   "name": "python",
   "nbconvert_exporter": "python",
   "pygments_lexer": "ipython3",
   "version": "3.9.2"
  }
 },
 "nbformat": 4,
 "nbformat_minor": 2
}
