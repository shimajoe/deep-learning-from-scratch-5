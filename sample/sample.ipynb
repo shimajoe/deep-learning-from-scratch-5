{
 "cells": [
  {
   "cell_type": "markdown",
   "metadata": {},
   "source": [
    "CUDA（GPU）を使う場合のシード設定:"
   ]
  },
  {
   "cell_type": "code",
   "execution_count": 1,
   "metadata": {},
   "outputs": [
    {
     "name": "stdout",
     "output_type": "stream",
     "text": [
      "tensor([[ 0.3367,  0.1288],\n",
      "        [ 0.2345,  0.2303],\n",
      "        [-1.1229, -0.1863]])\n",
      "tensor([[ 0.1940,  2.1614],\n",
      "        [-0.1721,  0.8491],\n",
      "        [-1.9244,  0.6530]], device='cuda:0')\n"
     ]
    }
   ],
   "source": [
    "import torch\n",
    "\n",
    "# CPUとCUDAの両方にシードを設定\n",
    "torch.manual_seed(42)\n",
    "torch.cuda.manual_seed(42)\n",
    "\n",
    "# 乱数テンソルの生成\n",
    "random_tensor_cpu = torch.randn(3, 2)\n",
    "random_tensor_gpu = torch.randn(3, 2, device='cuda')\n",
    "\n",
    "print(random_tensor_cpu)\n",
    "print(random_tensor_gpu)"
   ]
  }
 ],
 "metadata": {
  "kernelspec": {
   "display_name": "Python 3",
   "language": "python",
   "name": "python3"
  },
  "language_info": {
   "codemirror_mode": {
    "name": "ipython",
    "version": 3
   },
   "file_extension": ".py",
   "mimetype": "text/x-python",
   "name": "python",
   "nbconvert_exporter": "python",
   "pygments_lexer": "ipython3",
   "version": "3.9.2"
  }
 },
 "nbformat": 4,
 "nbformat_minor": 2
}
